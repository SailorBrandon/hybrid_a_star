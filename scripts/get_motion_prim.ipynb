{
 "cells": [
  {
   "cell_type": "code",
   "execution_count": 12,
   "metadata": {},
   "outputs": [
    {
     "name": "stdout",
     "output_type": "stream",
     "text": [
      "(0.17364817766693033, 0.01519224698779198, 0.17453292519943295)\n",
      "(-0.17364817766693033, 0.01519224698779198, -0.17453292519943295)\n",
      "(0.0, 0.0, 0.0)\n"
     ]
    }
   ],
   "source": [
    "import numpy as np\n",
    "import matplotlib.pyplot as plt\n",
    "\n",
    "\n",
    "\n",
    "def get_mp(R, ang_deg):\n",
    "    ang_rad = np.deg2rad(ang_deg)\n",
    "    x = R * np.sin(ang_rad)\n",
    "    y = R - R * np.cos(ang_rad)\n",
    "    return x, y, ang_rad\n",
    "\n",
    "R = 1\n",
    "ang_deg = 10\n",
    "print(get_mp(R, ang_deg))\n",
    "\n",
    "R = 1\n",
    "ang_deg = -10\n",
    "print(get_mp(R, ang_deg))\n",
    "\n",
    "R = 1\n",
    "ang_deg = 0\n",
    "print(get_mp(R, ang_deg))"
   ]
  }
 ],
 "metadata": {
  "kernelspec": {
   "display_name": "ackermann_base",
   "language": "python",
   "name": "python3"
  },
  "language_info": {
   "codemirror_mode": {
    "name": "ipython",
    "version": 3
   },
   "file_extension": ".py",
   "mimetype": "text/x-python",
   "name": "python",
   "nbconvert_exporter": "python",
   "pygments_lexer": "ipython3",
   "version": "3.7.16"
  },
  "orig_nbformat": 4
 },
 "nbformat": 4,
 "nbformat_minor": 2
}
